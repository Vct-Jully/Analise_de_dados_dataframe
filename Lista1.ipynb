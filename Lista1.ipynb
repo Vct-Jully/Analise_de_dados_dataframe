{
  "nbformat": 4,
  "nbformat_minor": 0,
  "metadata": {
    "colab": {
      "provenance": [],
      "mount_file_id": "1Pu0yxEOm9u80CLOJxlm_TwUvwdxadqz5",
      "authorship_tag": "ABX9TyOTbmiqkPkvMwm18iImYjyg",
      "include_colab_link": true
    },
    "kernelspec": {
      "name": "python3",
      "display_name": "Python 3"
    },
    "language_info": {
      "name": "python"
    }
  },
  "cells": [
    {
      "cell_type": "markdown",
      "metadata": {
        "id": "view-in-github",
        "colab_type": "text"
      },
      "source": [
        "<a href=\"https://colab.research.google.com/github/Vct-Jully/Analise_de_dados_dataframe/blob/main/Lista1.ipynb\" target=\"_parent\"><img src=\"https://colab.research.google.com/assets/colab-badge.svg\" alt=\"Open In Colab\"/></a>"
      ]
    },
    {
      "cell_type": "markdown",
      "source": [
        "# Lista 1 Ciência de Dados\n",
        "*Realize análises estatísticas e visualizações de dados para entender o comportamento dos dados e identificar tendências e padrões.*"
      ],
      "metadata": {
        "id": "lFBb2pqLEezA"
      }
    },
    {
      "cell_type": "markdown",
      "source": [
        "## **Preparação**\n",
        " Criação de um data frame com valores aleatórios para os próximos passos\n",
        "\n",
        " Gerar um novo arquivo aqui pode causar problemas a todas as novas análises, para isso deixei os arquivos utilizados aqui: https://drive.google.com/drive/folders/1b_tq67FYd1kgu8ht3oSPnxY-Qrz72YKm?usp=drive_link"
      ],
      "metadata": {
        "id": "qiUUbmN1-m_V"
      }
    },
    {
      "cell_type": "code",
      "execution_count": null,
      "metadata": {
        "colab": {
          "base_uri": "https://localhost:8080/"
        },
        "id": "ayPW9Ovj05JB",
        "outputId": "0f196124-9391-4256-ddd1-733107507c1f"
      },
      "outputs": [
        {
          "output_type": "stream",
          "name": "stdout",
          "text": [
            "data frame criado com sucesso!\n"
          ]
        }
      ],
      "source": [
        "import pandas as pd\n",
        "import numpy as np\n",
        "\n",
        "numLinhas = 100\n",
        "numColunas = 4\n",
        "\n",
        "#Criação de Data Frame vazio\n",
        "df = pd.DataFrame( index = range(numLinhas), columns = ['Data','Produto','Quantidade', 'Preço'])\n",
        "\n",
        "#Definir Data com datas aleatórias\n",
        "df['Data'] = pd.date_range(start='2023-01-01', end='2024-07-31', periods = numLinhas)\n",
        "\n",
        "#Definir Produtos e alocar aleatoriamente em Produto\n",
        "produtos = ['Sorvete de Chocolate', 'Sorvete de Caramelo', 'Sorvete de Pistache', 'Brownie de Chocolate', 'Bolo RedVelvet']\n",
        "df['Produto'] = np.random.choice(produtos, size = numLinhas)\n",
        "\n",
        "#Definir Quantidade aleatória\n",
        "df['Quantidade'] = np.random.randint(1,100, size = numLinhas)\n",
        "\n",
        "#Definir preços por produto\n",
        "preços_iniciais = {\n",
        "    'Sorvete de Chocolate': 10.00,\n",
        "    'Sorvete de Caramelo': 15.00,\n",
        "    'Sorvete de Pistache': 19.00,\n",
        "    'Brownie de Chocolate': 7.00,\n",
        "    'Bolo RedVelvet': 22.00\n",
        "}\n",
        "\n",
        "# Atribuir preço inicial para cada produto\n",
        "df['Preço'] = df['Produto'].map(preços_iniciais)\n",
        "\n",
        "#Definindo uma inflação de 20% a cada 6 meses para todos os produtos\n",
        "inflação = 0.2\n",
        "df['Preço']= df['Preço'] * (1+inflação) ** (df['Data'].dt.month // 6)\n",
        "\n",
        "#  Definir uma promoção de 20% para o mês de abril\n",
        "df.loc[(df['Data'].dt.month == 4), 'Preço'] *= 0.8\n",
        "\n",
        "# Arredondar preços para dois números após a vírgula\n",
        "df['Preço'] = df['Preço'].round(2)\n",
        "\n",
        "#Armazenando em arquivo csv e xlsx\n",
        "df.to_csv('/content/drive/MyDrive/CDLista1/vendas.csv', index = False)\n",
        "df.to_excel('/content/drive/MyDrive/CDLista1/vendas1.xlsx', index = False)\n",
        "\n",
        "print(\"data frame criado com sucesso!\")\n",
        "\n",
        "\n"
      ]
    },
    {
      "cell_type": "markdown",
      "source": [
        "---\n",
        "## 1. Aquisição de Dados e Leitura\n",
        "\n",
        "\n",
        "---\n",
        "Escreva um script em Python que leia um arquivo CSV contendo dados de\n",
        "vendas de uma empresa. O arquivo deve conter as seguintes colunas:\n",
        "- Data,\n",
        "- Produto\n",
        "- Quantidade\n",
        "- Preço\n",
        "\n",
        "Utilize a biblioteca pandas para ler o arquivo e\n",
        "exibir as primeiras 5 linhas do DataFrame resultante."
      ],
      "metadata": {
        "id": "uwTMtdjw55eq"
      }
    },
    {
      "cell_type": "code",
      "source": [
        "import numpy as np\n",
        "import pandas as pd\n",
        "\n",
        "df = pd.read_csv('/content/drive/MyDrive/CDLista1/vendas.csv')\n",
        "print(df.head())"
      ],
      "metadata": {
        "colab": {
          "base_uri": "https://localhost:8080/"
        },
        "id": "6fY78P45YriN",
        "outputId": "7e74ef91-368a-47fa-9d33-ece3c7ca3782"
      },
      "execution_count": null,
      "outputs": [
        {
          "output_type": "stream",
          "name": "stdout",
          "text": [
            "                            Data               Produto  Quantidade  Preço\n",
            "0  2023-01-01 00:00:00.000000000  Sorvete de Chocolate          78   10.0\n",
            "1  2023-01-06 19:52:43.636363636   Sorvete de Pistache          48   19.0\n",
            "2  2023-01-12 15:45:27.272727272   Sorvete de Caramelo          13   15.0\n",
            "3  2023-01-18 11:38:10.909090909   Sorvete de Pistache          85   19.0\n",
            "4  2023-01-24 07:30:54.545454545   Sorvete de Caramelo          73   15.0\n"
          ]
        }
      ]
    },
    {
      "cell_type": "markdown",
      "source": [
        "---\n",
        "## 2. Pré-processamento de Dados\n",
        "---\n",
        "\n",
        "Limpe os dados lidos no exercício anterior removendo linhas com valores nulos\n",
        "e convertendo a coluna Data para o tipo datetime. Em seguida, normalize a\n",
        "coluna Quantidade para que os valores estejam entre 0 e 1."
      ],
      "metadata": {
        "id": "EEgBJGbDhRBB"
      }
    },
    {
      "cell_type": "code",
      "source": [
        "import pandas as pd\n",
        "df = pd.read_csv('/content/drive/MyDrive/CDLista1/vendas.csv')\n",
        "df = df.dropna() # Remove linhas com valores nulos\n",
        "df['Data'] = pd.to_datetime(df['Data'])\n",
        "df['Data'] = df['Data'].dt.strftime('%Y-%m-%d') # Formatando a data\n",
        "print(df['Data'])"
      ],
      "metadata": {
        "id": "MDPQ8-SKhNFM",
        "colab": {
          "base_uri": "https://localhost:8080/"
        },
        "outputId": "f2278fba-e8ca-4ec3-aa17-ad7da5e9a504"
      },
      "execution_count": null,
      "outputs": [
        {
          "output_type": "stream",
          "name": "stdout",
          "text": [
            "0     2023-01-01\n",
            "1     2023-01-06\n",
            "2     2023-01-12\n",
            "3     2023-01-18\n",
            "4     2023-01-24\n",
            "         ...    \n",
            "95    2024-07-07\n",
            "96    2024-07-13\n",
            "97    2024-07-19\n",
            "98    2024-07-25\n",
            "99    2024-07-31\n",
            "Name: Data, Length: 100, dtype: object\n"
          ]
        }
      ]
    },
    {
      "cell_type": "markdown",
      "source": [
        "# 3. Análise Estatística\n",
        "----\n",
        "Calcule a média, mediana, desvio padrão e moda para a coluna Preço do\n",
        "DataFrame resultante do pré-processamento.\n"
      ],
      "metadata": {
        "id": "pi2NsnMh5nTy"
      }
    },
    {
      "cell_type": "code",
      "source": [
        "import statistics as st\n",
        "\n",
        "media = st.mean(df['Preço'])\n",
        "mediana = st.median(df['Preço'])\n",
        "desvio = st.stdev(df['Preço'])\n",
        "moda = st.mode(df['Preço'])\n",
        "\n",
        "print(f'Média: {media:.3f}')\n",
        "print(f'Mediana: {mediana:.3f}')\n",
        "print(f'Desvio padrão: {desvio:.3f}')\n",
        "print(f'Moda: {moda:.3f}')"
      ],
      "metadata": {
        "colab": {
          "base_uri": "https://localhost:8080/"
        },
        "id": "IbnlKm_WTIFm",
        "outputId": "c95a39b3-de03-481a-8647-03f3f8375ef2"
      },
      "execution_count": null,
      "outputs": [
        {
          "output_type": "stream",
          "name": "stdout",
          "text": [
            "Média: 15.848\n",
            "Mediana: 15.000\n",
            "Desvio padrão: 6.800\n",
            "Moda: 7.000\n"
          ]
        }
      ]
    },
    {
      "cell_type": "markdown",
      "source": [
        "# 4. Visualização de Dados\n",
        "----\n",
        "Crie um gráfico de barras utilizando a biblioteca matplotlib ou seaborn que\n",
        "mostre a quantidade total vendida de cada produto. O eixo x deve representar\n",
        "os produtos e o eixo y a quantidade total vendida."
      ],
      "metadata": {
        "id": "fZMfnPTOVClG"
      }
    },
    {
      "cell_type": "code",
      "source": [
        "import matplotlib.pyplot as plt\n",
        "\n",
        "produtos = df['Produto'].unique()\n",
        "quantidade_total = df.groupby('Produto')['Quantidade'].sum()\n",
        "\n",
        "plt.figure(figsize=(10, 6))\n",
        "plt.title('Quantidade Total Vendida por Produto')\n",
        "plt.xlabel('Produto')\n",
        "plt.ylabel('Quantidade Total Vendida')\n",
        "plt.bar(produtos, quantidade_total, width = 0.5, color = 'hotpink')\n"
      ],
      "metadata": {
        "colab": {
          "base_uri": "https://localhost:8080/",
          "height": 581
        },
        "id": "ewnV5onqVHN_",
        "outputId": "b17b5d0b-cc3e-44d6-d348-8358b2c0eab3"
      },
      "execution_count": null,
      "outputs": [
        {
          "output_type": "execute_result",
          "data": {
            "text/plain": [
              "<BarContainer object of 5 artists>"
            ]
          },
          "metadata": {},
          "execution_count": 6
        },
        {
          "output_type": "display_data",
          "data": {
            "text/plain": [
              "<Figure size 1000x600 with 1 Axes>"
            ],
            "image/png": "[encoded data removed]"
          },
          "metadata": {}
        }
      ]
    },
    {
      "cell_type": "markdown",
      "source": [
        "# 5.1 K-Vizinhos Mais Próximos\n",
        "----\n",
        "\n",
        "Usando a mesma base de dados, crie uma coluna binária chamada\n",
        "Alta_Venda, onde o valor é 1 se a quantidade vendida for maior que a média e\n",
        "0 caso contrário."
      ],
      "metadata": {
        "id": "om3qtzupa_PL"
      }
    },
    {
      "cell_type": "code",
      "source": [
        "df['Alta_Venda'] = 0 # Define 0 como padrão\n",
        "df.loc[df['Quantidade'] > df['Quantidade'].mean(), 'Alta_Venda'] = 1 # condicional para 1\n",
        "print(df)"
      ],
      "metadata": {
        "colab": {
          "base_uri": "https://localhost:8080/"
        },
        "id": "x6JCufhVbWtL",
        "outputId": "37ba2611-015f-4e19-e8c6-19667042e15f"
      },
      "execution_count": null,
      "outputs": [
        {
          "output_type": "stream",
          "name": "stdout",
          "text": [
            "          Data               Produto  Quantidade  Preço  Alta_Venda  Cluster\n",
            "0   2023-01-01  Sorvete de Chocolate          78   10.0           1        1\n",
            "1   2023-01-06   Sorvete de Pistache          48   19.0           0        2\n",
            "2   2023-01-12   Sorvete de Caramelo          13   15.0           0        0\n",
            "3   2023-01-18   Sorvete de Pistache          85   19.0           1        3\n",
            "4   2023-01-24   Sorvete de Caramelo          73   15.0           1        1\n",
            "..         ...                   ...         ...    ...         ...      ...\n",
            "95  2024-07-07  Sorvete de Chocolate          88   12.0           1        1\n",
            "96  2024-07-13   Sorvete de Caramelo          12   18.0           0        2\n",
            "97  2024-07-19   Sorvete de Caramelo          79   18.0           1        3\n",
            "98  2024-07-25        Bolo RedVelvet          61   26.4           1        3\n",
            "99  2024-07-31   Sorvete de Caramelo          15   18.0           0        2\n",
            "\n",
            "[100 rows x 6 columns]\n"
          ]
        }
      ]
    },
    {
      "cell_type": "markdown",
      "source": [
        "#5.2 Classificação\n",
        "---\n",
        "Em seguida, crie um modelo de classificação utilizando o\n",
        "algoritmo K-Vizinhos Mais Próximos (KNN) para prever se uma venda será alta\n",
        "ou não. Avalie o modelo utilizando a matriz de confusão."
      ],
      "metadata": {
        "id": "hCwfDIHXbM1h"
      }
    },
    {
      "cell_type": "code",
      "source": [
        "from sklearn.model_selection import train_test_split\n",
        "from sklearn.neighbors import KNeighborsClassifier\n",
        "from sklearn.metrics import confusion_matrix\n",
        "\n",
        "x = df[['Preço', 'Quantidade']]\n",
        "y = df['Alta_Venda']\n",
        "\n",
        "# Treino / Teste\n",
        "x_tr, x_te, y_tr, y_te = train_test_split(x, y, test_size=0.2, random_state=42)\n",
        "\n",
        "knn = KNeighborsClassifier(n_neighbors=5)\n",
        "\n",
        "# Treinar\n",
        "knn.fit(x_tr, y_tr)\n",
        "\n",
        "# Previsões\n",
        "y_pred = knn.predict(x_te)\n",
        "print(y_te) # valor correto\n",
        "print(y_pred) # valor da previsão\n",
        "9\n",
        "# Calcular a matriz de confusão\n",
        "cm_for_df = confusion_matrix(y_te, y_pred)\n",
        "print(\"Matriz de Confusão:\")\n",
        "print(cm_for_df)\n"
      ],
      "metadata": {
        "colab": {
          "base_uri": "https://localhost:8080/"
        },
        "id": "Nze9sTW5v5i6",
        "outputId": "0189adf0-58ba-44bd-a281-49d978fb9fd4"
      },
      "execution_count": null,
      "outputs": [
        {
          "output_type": "stream",
          "name": "stdout",
          "text": [
            "83    0\n",
            "53    1\n",
            "70    1\n",
            "45    0\n",
            "44    0\n",
            "39    1\n",
            "22    0\n",
            "80    0\n",
            "10    1\n",
            "0     1\n",
            "18    1\n",
            "30    0\n",
            "73    1\n",
            "33    0\n",
            "90    0\n",
            "4     1\n",
            "76    0\n",
            "77    1\n",
            "12    1\n",
            "31    1\n",
            "Name: Alta_Venda, dtype: int64\n",
            "[0 1 1 0 0 1 0 0 1 1 1 0 1 0 0 1 0 1 1 1]\n",
            "Matriz de Confusão:\n",
            "[[ 9  0]\n",
            " [ 0 11]]\n"
          ]
        }
      ]
    },
    {
      "cell_type": "markdown",
      "source": [
        "# 6. Agrupamento - K-means\n",
        "---\n",
        "Utilize o algoritmo K-means para agrupar os produtos com base em suas\n",
        "quantidades vendidas e preços. Determine o número ideal de clusters\n",
        "utilizando o método do cotovelo (elbow method)."
      ],
      "metadata": {
        "id": "fR-RyWtQi6QU"
      }
    },
    {
      "cell_type": "code",
      "source": [
        "from sklearn.cluster import KMeans\n",
        "from sklearn.preprocessing import StandardScaler\n",
        "\n",
        "x = df[['Quantidade', 'Preço']]\n",
        "\n",
        "# Padronizar os dados\n",
        "scaler = StandardScaler()\n",
        "X_scaled = scaler.fit_transform(x)\n",
        "\n",
        "# Minimização da dispersão dos clusters\n",
        "wcss = []\n",
        "for i in range(1, 11):\n",
        "    kmeans = KMeans(n_clusters=i, random_state=42)\n",
        "    kmeans.fit(X_scaled)\n",
        "    wcss.append(kmeans.inertia_)\n",
        "\n",
        "plt.plot(range(1, 11), wcss)\n",
        "plt.title('Método do Cotovelo')\n",
        "plt.xlabel('Número de Clusters')\n",
        "plt.ylabel('Within-Cluster Sum of Squares')\n",
        "plt.show()\n"
      ],
      "metadata": {
        "id": "bUPr8RKQi98N",
        "colab": {
          "base_uri": "https://localhost:8080/",
          "height": 839
        },
        "outputId": "9e446e26-31ea-4be6-8e1f-ea46a60d8cdc"
      },
      "execution_count": null,
      "outputs": [
        {
          "output_type": "stream",
          "name": "stderr",
          "text": [
            "/usr/local/lib/python3.10/dist-packages/sklearn/cluster/_kmeans.py:1416: FutureWarning: The default value of `n_init` will change from 10 to 'auto' in 1.4. Set the value of `n_init` explicitly to suppress the warning\n",
            "  super()._check_params_vs_input(X, default_n_init=10)\n",
            "/usr/local/lib/python3.10/dist-packages/sklearn/cluster/_kmeans.py:1416: FutureWarning: The default value of `n_init` will change from 10 to 'auto' in 1.4. Set the value of `n_init` explicitly to suppress the warning\n",
            "  super()._check_params_vs_input(X, default_n_init=10)\n",
            "/usr/local/lib/python3.10/dist-packages/sklearn/cluster/_kmeans.py:1416: FutureWarning: The default value of `n_init` will change from 10 to 'auto' in 1.4. Set the value of `n_init` explicitly to suppress the warning\n",
            "  super()._check_params_vs_input(X, default_n_init=10)\n",
            "/usr/local/lib/python3.10/dist-packages/sklearn/cluster/_kmeans.py:1416: FutureWarning: The default value of `n_init` will change from 10 to 'auto' in 1.4. Set the value of `n_init` explicitly to suppress the warning\n",
            "  super()._check_params_vs_input(X, default_n_init=10)\n",
            "/usr/local/lib/python3.10/dist-packages/sklearn/cluster/_kmeans.py:1416: FutureWarning: The default value of `n_init` will change from 10 to 'auto' in 1.4. Set the value of `n_init` explicitly to suppress the warning\n",
            "  super()._check_params_vs_input(X, default_n_init=10)\n",
            "/usr/local/lib/python3.10/dist-packages/sklearn/cluster/_kmeans.py:1416: FutureWarning: The default value of `n_init` will change from 10 to 'auto' in 1.4. Set the value of `n_init` explicitly to suppress the warning\n",
            "  super()._check_params_vs_input(X, default_n_init=10)\n",
            "/usr/local/lib/python3.10/dist-packages/sklearn/cluster/_kmeans.py:1416: FutureWarning: The default value of `n_init` will change from 10 to 'auto' in 1.4. Set the value of `n_init` explicitly to suppress the warning\n",
            "  super()._check_params_vs_input(X, default_n_init=10)\n",
            "/usr/local/lib/python3.10/dist-packages/sklearn/cluster/_kmeans.py:1416: FutureWarning: The default value of `n_init` will change from 10 to 'auto' in 1.4. Set the value of `n_init` explicitly to suppress the warning\n",
            "  super()._check_params_vs_input(X, default_n_init=10)\n",
            "/usr/local/lib/python3.10/dist-packages/sklearn/cluster/_kmeans.py:1416: FutureWarning: The default value of `n_init` will change from 10 to 'auto' in 1.4. Set the value of `n_init` explicitly to suppress the warning\n",
            "  super()._check_params_vs_input(X, default_n_init=10)\n",
            "/usr/local/lib/python3.10/dist-packages/sklearn/cluster/_kmeans.py:1416: FutureWarning: The default value of `n_init` will change from 10 to 'auto' in 1.4. Set the value of `n_init` explicitly to suppress the warning\n",
            "  super()._check_params_vs_input(X, default_n_init=10)\n"
          ]
        },
        {
          "output_type": "display_data",
          "data": {
            "text/plain": [
              "<Figure size 640x480 with 1 Axes>"
            ],
            "image/png": "[encoded data removed]"
          },
          "metadata": {}
        }
      ]
    },
    {
      "cell_type": "markdown",
      "source": [
        "Definir número de clusters com base no gráfico:\n",
        "\n",
        "**número de clusters** = 4"
      ],
      "metadata": {
        "id": "dSICXyc_musE"
      }
    },
    {
      "cell_type": "code",
      "source": [
        "n_cl = 4\n",
        "\n",
        "kmeans = KMeans(n_clusters=n_cl, random_state=42)\n",
        "df['Cluster'] = kmeans.fit_predict(X_scaled)\n",
        "\n",
        "# Calcular as médias padrões dos clusters\n",
        "centroids = kmeans.cluster_centers_\n",
        "print(f\"Centroides: {centroids}\")\n",
        "\n",
        "# Agrupar os dados por cluster\n",
        "for i in range(n_cl):\n",
        "  cluster_data = df[df['Cluster'] == i]\n",
        "  df.to_csv('/content/drive/MyDrive/CDLista1/vendasNovo.csv', index = False)\n",
        "  df.to_excel('/content/drive/MyDrive/CDLista1/vendasNovo.xlsx', index = False)\n",
        "  print(f\"\\nCluster {i}:\")\n",
        "  print(cluster_data.describe())\n",
        "  print()\n",
        "  print(\"Quantidade de Ocorrências:\\n\",cluster_data['Produto'].value_counts())\n",
        "\n",
        "print(\"\\n\")\n",
        "qtd_Produto = df.groupby(['Produto', 'Cluster'])['Quantidade'].sum().reset_index()\n",
        "print(\"quantidade total de produto vendida por cluster: \\n\", qtd_Produto)\n"
      ],
      "metadata": {
        "colab": {
          "base_uri": "https://localhost:8080/"
        },
        "id": "d2yrUsrs177A",
        "outputId": "a3b6e506-60ba-4c3b-f08f-516769941abb"
      },
      "execution_count": null,
      "outputs": [
        {
          "output_type": "stream",
          "name": "stderr",
          "text": [
            "/usr/local/lib/python3.10/dist-packages/sklearn/cluster/_kmeans.py:1416: FutureWarning: The default value of `n_init` will change from 10 to 'auto' in 1.4. Set the value of `n_init` explicitly to suppress the warning\n",
            "  super()._check_params_vs_input(X, default_n_init=10)\n"
          ]
        },
        {
          "output_type": "stream",
          "name": "stdout",
          "text": [
            "Centroides: [[-0.9232157  -0.92351561]\n",
            " [ 0.86084452 -0.77442203]\n",
            " [-1.05852058  0.86683911]\n",
            " [ 0.6800743   0.93531993]]\n",
            "\n",
            "Cluster 0:\n",
            "       Quantidade      Preço  Alta_Venda  Cluster\n",
            "count    20.00000  20.000000        20.0     20.0\n",
            "mean     28.25000   9.600000         0.0      0.0\n",
            "std      14.92393   3.361078         0.0      0.0\n",
            "min       2.00000   5.600000         0.0      0.0\n",
            "25%      18.25000   7.000000         0.0      0.0\n",
            "50%      28.50000   8.200000         0.0      0.0\n",
            "75%      36.75000  12.000000         0.0      0.0\n",
            "max      53.00000  15.000000         0.0      0.0\n",
            "\n",
            "Quantidade de Ocorrências:\n",
            " Produto\n",
            "Brownie de Chocolate    10\n",
            "Sorvete de Caramelo      6\n",
            "Sorvete de Chocolate     4\n",
            "Name: count, dtype: int64\n",
            "\n",
            "Cluster 1:\n",
            "       Quantidade      Preço  Alta_Venda  Cluster\n",
            "count   32.000000  32.000000        32.0     32.0\n",
            "mean    79.343750  10.608750         1.0      1.0\n",
            "std     11.338229   2.894867         0.0      0.0\n",
            "min     55.000000   5.600000         1.0      1.0\n",
            "25%     71.500000   8.400000         1.0      1.0\n",
            "50%     77.500000  10.040000         1.0      1.0\n",
            "75%     88.500000  12.000000         1.0      1.0\n",
            "max     98.000000  15.200000         1.0      1.0\n",
            "\n",
            "Quantidade de Ocorrências:\n",
            " Produto\n",
            "Sorvete de Chocolate    12\n",
            "Brownie de Chocolate    12\n",
            "Sorvete de Caramelo      7\n",
            "Sorvete de Pistache      1\n",
            "Name: count, dtype: int64\n",
            "\n",
            "Cluster 2:\n",
            "       Quantidade      Preço  Alta_Venda  Cluster\n",
            "count   24.000000  24.000000        24.0     24.0\n",
            "mean    24.375000  21.713333         0.0      2.0\n",
            "std     13.965213   3.707847         0.0      0.0\n",
            "min      5.000000  18.000000         0.0      2.0\n",
            "25%     11.500000  18.000000         0.0      2.0\n",
            "50%     24.000000  22.000000         0.0      2.0\n",
            "75%     36.250000  26.400000         0.0      2.0\n",
            "max     48.000000  27.360000         0.0      2.0\n",
            "\n",
            "Quantidade de Ocorrências:\n",
            " Produto\n",
            "Sorvete de Caramelo    9\n",
            "Bolo RedVelvet         8\n",
            "Sorvete de Pistache    7\n",
            "Name: count, dtype: int64\n",
            "\n",
            "Cluster 3:\n",
            "       Quantidade      Preço  Alta_Venda  Cluster\n",
            "count   24.000000  24.000000   24.000000     24.0\n",
            "mean    74.166667  22.176667    0.916667      3.0\n",
            "std     14.333502   3.850708    0.282330      0.0\n",
            "min     51.000000  18.000000    0.000000      3.0\n",
            "25%     60.750000  19.000000    1.000000      3.0\n",
            "50%     75.500000  22.000000    1.000000      3.0\n",
            "75%     86.500000  26.400000    1.000000      3.0\n",
            "max     97.000000  31.680000    1.000000      3.0\n",
            "\n",
            "Quantidade de Ocorrências:\n",
            " Produto\n",
            "Sorvete de Pistache    13\n",
            "Bolo RedVelvet          8\n",
            "Sorvete de Caramelo     3\n",
            "Name: count, dtype: int64\n",
            "\n",
            "\n",
            "quantidade total de produto vendida por cluster: \n",
            "                  Produto  Cluster  Quantidade\n",
            "0         Bolo RedVelvet        2         224\n",
            "1         Bolo RedVelvet        3         556\n",
            "2   Brownie de Chocolate        0         275\n",
            "3   Brownie de Chocolate        1        1005\n",
            "4    Sorvete de Caramelo        0         157\n",
            "5    Sorvete de Caramelo        1         538\n",
            "6    Sorvete de Caramelo        2         187\n",
            "7    Sorvete de Caramelo        3         243\n",
            "8   Sorvete de Chocolate        0         133\n",
            "9   Sorvete de Chocolate        1         926\n",
            "10   Sorvete de Pistache        1          70\n",
            "11   Sorvete de Pistache        2         174\n",
            "12   Sorvete de Pistache        3         981\n"
          ]
        }
      ]
    },
    {
      "cell_type": "markdown",
      "source": [
        "# 7. Análise de Clusters\n",
        "---\n",
        "Descreva as características de cada cluster encontrado no exercício anterior.\n",
        "Identifique quais produtos estão em cada cluster e discuta possíveis razões\n",
        "para esses agrupamentos."
      ],
      "metadata": {
        "id": "_GB8eBNQtjqX"
      }
    },
    {
      "cell_type": "markdown",
      "source": [
        "#### Cluster 0:\n",
        "Brownie de Chocolate, Sorvete de Caramelo, Sorvete de Chocolate.\n",
        "Envolve em maior parte os produtos de preços abaixo da média geral, nenhum produto teve alta venda mas as vendas não foram tão baixas\n",
        "Houve uma demanda comum, padrão de sabores comuns.\n",
        "\n",
        "#### Cluster 1:\n",
        "Sorvete de Chocolate, Brownie de Chocolate, Sorvete de Caramelo, Sorvete de Pistache.\n",
        "Envolve variados produtos, geral de menor custo, porém tem uma ocorrência de sorvete de pistache, que custa 19 reais, e o preço máximo desse cluster foi de 15,20 logo aqui pode ter ocorrido uma promoção, provavelmente no de pistache, no brownie e no sorvete de caramelo.\n",
        "Aqui houve uma alta demanda, maior parte dos produtos vendeu mais que a média comum pode ocorrer por preços atrativos e sabores de consumo comuns.\n",
        "\n",
        "#### Cluster 2:\n",
        "Sorvete de Caramelo, Bolo RedVelvet, Sorvete de Pistache.\n",
        "Envolve os produtos de custo mais alto, aqui aparentemente houve um aumento significativo no valor de todos os produtos e nenhum produto com alta venda, isso pode acontecer por sazonalidade dos sabores, preço elevado ou outros fatores.\n",
        "\n",
        "#### Cluster 3:\n",
        "Sorvete de Caramelo, Bolo RedVelvet, Sorvete de Pistache.\n",
        "Envolve os produtos de maiores preços, os mesmos do cluster, porém aqui temos alta venda apesar de produtos acima da média geral e com valores até mais altos do que o do cluster 2,  podem ter uma base de clientes mais restrita, um público alvo com maior poder aquisitivo ou um período de tendência de mercado."
      ],
      "metadata": {
        "id": "L-2ym-d9uyJT"
      }
    },
    {
      "cell_type": "markdown",
      "source": [
        "# 8. Visualização de Clusters\n",
        "---\n",
        "Crie uma visualização que mostre os clusters formados pelo algoritmo\n",
        "K-means. Utilize um gráfico de dispersão, onde cada ponto representa um\n",
        "produto, e cores diferentes representam os diferentes clusters."
      ],
      "metadata": {
        "id": "zZRlMSTuHobU"
      }
    },
    {
      "cell_type": "code",
      "source": [
        "import matplotlib as mpl\n",
        "\n",
        "print(df)\n",
        "plt.scatter(df['Quantidade'], df['Preço'], c=df['Cluster'])\n",
        "plt.title('Agrupamento K-means')\n",
        "plt.xlabel('Quantidade Vendida')\n",
        "plt.ylabel('Preço')\n",
        "colors = ['darkviolet', 'hotpink', 'blue', 'red']\n",
        "plt.scatter(df['Quantidade'], df['Preço'], c=df['Cluster'], cmap=mpl.colors.ListedColormap(colors))\n",
        "plt.colorbar()\n",
        "plt.show()"
      ],
      "metadata": {
        "colab": {
          "base_uri": "https://localhost:8080/",
          "height": 715
        },
        "id": "qZK48sAJm0-z",
        "outputId": "5a18d9a6-0466-4d52-bd0e-5d962ac26a69"
      },
      "execution_count": null,
      "outputs": [
        {
          "output_type": "stream",
          "name": "stdout",
          "text": [
            "          Data               Produto  Quantidade  Preço  Alta_Venda  Cluster\n",
            "0   2023-01-01  Sorvete de Chocolate          78   10.0           1        1\n",
            "1   2023-01-06   Sorvete de Pistache          48   19.0           0        2\n",
            "2   2023-01-12   Sorvete de Caramelo          13   15.0           0        0\n",
            "3   2023-01-18   Sorvete de Pistache          85   19.0           1        3\n",
            "4   2023-01-24   Sorvete de Caramelo          73   15.0           1        1\n",
            "..         ...                   ...         ...    ...         ...      ...\n",
            "95  2024-07-07  Sorvete de Chocolate          88   12.0           1        1\n",
            "96  2024-07-13   Sorvete de Caramelo          12   18.0           0        2\n",
            "97  2024-07-19   Sorvete de Caramelo          79   18.0           1        3\n",
            "98  2024-07-25        Bolo RedVelvet          61   26.4           1        3\n",
            "99  2024-07-31   Sorvete de Caramelo          15   18.0           0        2\n",
            "\n",
            "[100 rows x 6 columns]\n"
          ]
        },
        {
          "output_type": "display_data",
          "data": {
            "text/plain": [
              "<Figure size 640x480 with 2 Axes>"
            ],
            "image/png": "[encoded data removed]"
          },
          "metadata": {}
        }
      ]
    },
    {
      "cell_type": "markdown",
      "source": [
        "# 9. Validação Cruzada\n",
        "---\n",
        "Realize uma validação cruzada de 5 vezes para o modelo KNN criado no\n",
        "exercício 5. Compare os resultados obtidos e discuta a estabilidade do modelo."
      ],
      "metadata": {
        "id": "6N3KkAwbJPOU"
      }
    },
    {
      "cell_type": "code",
      "source": [
        "from sklearn.model_selection import KFold\n",
        "from sklearn.model_selection import cross_val_score\n",
        "\n",
        "kf = KFold(n_splits=5, shuffle=True, random_state=42)\n",
        "knn = KNeighborsClassifier(n_neighbors=5)\n",
        "knn_scores = cross_val_score(knn, x, y, cv=kf)\n",
        "\n",
        "print(\"Acurácia de cada fold:\", knn_scores)\n",
        "print(\"Acurácia média:\", knn_scores.mean())\n",
        "print(\"Desvio padrão:\", knn_scores.std())\n"
      ],
      "metadata": {
        "colab": {
          "base_uri": "https://localhost:8080/"
        },
        "id": "chlkmD6GLWcn",
        "outputId": "2d6b6899-6e41-48c8-a8ee-edb6b9d55d0e"
      },
      "execution_count": null,
      "outputs": [
        {
          "output_type": "stream",
          "name": "stdout",
          "text": [
            "Acurácia de cada fold: [1.   0.95 0.9  1.   1.  ]\n",
            "Acurácia média: 0.97\n",
            "Desvio padrão: 0.039999999999999994\n"
          ]
        }
      ]
    },
    {
      "cell_type": "markdown",
      "source": [
        "# 10. Tomada de Decisão baseada em Clustering\n",
        "---\n",
        "● **Com base nos clusters identificados, escreva um script que sugira\n",
        "estratégias de marketing. Por exemplo, para cada cluster, decida se é\n",
        "melhor aumentar ou diminuir o preço dos produtos, lançar promoções\n",
        "ou focar em marketing específico.**"
      ],
      "metadata": {
        "id": "PAWqvODulUaf"
      }
    },
    {
      "cell_type": "markdown",
      "source": [
        "#### Cluster 0:\n",
        "Para produtos básicos, o foco deve ser na fidelização dos clientes e no aumento do ticket médio. Implementar um programa de pontos simples e oferecer combos econômicos. Crie um conteúdo prático com receitas e dicas para incentivar o consumo.\n",
        "\n",
        "#### Cluster 1:\n",
        "\n",
        "Em produtos populares, o objetivo é fortalecer a marca e personalizar a experiência do cliente. Investir em uma identidade visual forte e criar programas de fidelidade personalizados. Organize eventos temáticos e lance edições limitadas para gerar interesse.\n",
        "\n",
        "#### Cluster 2:\n",
        "\n",
        "Para produtos premium, a estratégia é fortalecer a percepção de valor e aumentar a visibilidade da marca. Investir em embalagens exclusivas e criar narrativas em torno dos produtos. Melhorar o ambiente e oferecer experiências personalizadas.\n",
        "\n",
        "#### Cluster 3:\n",
        "\n",
        "Em produtos de alta demanda e alto valor, o foco é maximizar a satisfação do cliente e expandir o portfólio. Implementar um programa de fidelidade robusto, acrescentar brindes e oferecer atendimento personalizado. Lançar novos produtos complementares e otimizar os canais de venda.\n",
        "\n",
        "\n",
        "\n",
        "\n",
        "\n",
        "\n"
      ],
      "metadata": {
        "id": "WW3RcdVM5bD_"
      }
    },
    {
      "cell_type": "markdown",
      "source": [
        "● **Aplique essas mudanças aos dados históricos e compare os resultados\n",
        "antes e depois da aplicação das estratégias usando métodos\n",
        "estatísticos como teste t, teste de Wilcoxon, ou análise de variância\n",
        "(ANOVA) para avaliar se as mudanças implementadas tiveram um\n",
        "impacto significativo nas vendas.**\n",
        "\n"
      ],
      "metadata": {
        "id": "ita_HL9ZmBw3"
      }
    },
    {
      "cell_type": "code",
      "source": [
        "import pandas as pd\n",
        "\n",
        "df = pd.read_csv('/content/drive/MyDrive/CDLista1/vendasNovo.csv')\n",
        "\n",
        "def aplicar_melhorias(row):\n",
        "    fator_quantidade = 1.0\n",
        "    fator_preco = 1.0\n",
        "\n",
        "    if row['Cluster'] == 0:\n",
        "        fator_quantidade = 1.10  # Aumentar quantidade em 10%\n",
        "    elif row['Cluster'] == 1:\n",
        "        fator_preco = 1.10  # Aumentar preço em 10%\n",
        "        fator_quantidade = 1.15  # Aumentar quantidade em 15%\n",
        "    elif row['Cluster'] == 2:\n",
        "        fator_quantidade = 1.20  # Aumentar quantidade em 20%\n",
        "    elif row['Cluster'] == 3:\n",
        "        fator_quantidade = 1.15  # Aumentar quantidade em 15%\n",
        "\n",
        "    row['Quantidade'] *= fator_quantidade\n",
        "    row['Preço'] *= fator_preco\n",
        "    row['Venda'] = row['Quantidade'] * row['Preço']\n",
        "    return row\n",
        "\n",
        "# Aplicar melhorias ao dataframe\n",
        "df_melhorado = df.apply(aplicar_melhorias, axis=1)\n",
        "df_melhorado.to_csv('/content/drive/MyDrive/CDLista1/vendasMelhorado.csv', index=False)\n",
        "print(df_melhorado)"
      ],
      "metadata": {
        "colab": {
          "base_uri": "https://localhost:8080/"
        },
        "id": "G4aGPFnyJd8E",
        "outputId": "d0b67a8a-c8ee-4510-ea25-f4eda9c5efc6"
      },
      "execution_count": null,
      "outputs": [
        {
          "output_type": "stream",
          "name": "stdout",
          "text": [
            "          Data               Produto  Quantidade  Preço  Alta_Venda  Cluster  \\\n",
            "0   2023-01-01  Sorvete de Chocolate       89.70   11.0           1        1   \n",
            "1   2023-01-06   Sorvete de Pistache       57.60   19.0           0        2   \n",
            "2   2023-01-12   Sorvete de Caramelo       14.30   15.0           0        0   \n",
            "3   2023-01-18   Sorvete de Pistache       97.75   19.0           1        3   \n",
            "4   2023-01-24   Sorvete de Caramelo       83.95   16.5           1        1   \n",
            "..         ...                   ...         ...    ...         ...      ...   \n",
            "95  2024-07-07  Sorvete de Chocolate      101.20   13.2           1        1   \n",
            "96  2024-07-13   Sorvete de Caramelo       14.40   18.0           0        2   \n",
            "97  2024-07-19   Sorvete de Caramelo       90.85   18.0           1        3   \n",
            "98  2024-07-25        Bolo RedVelvet       70.15   26.4           1        3   \n",
            "99  2024-07-31   Sorvete de Caramelo       18.00   18.0           0        2   \n",
            "\n",
            "       Venda  \n",
            "0    986.700  \n",
            "1   1094.400  \n",
            "2    214.500  \n",
            "3   1857.250  \n",
            "4   1385.175  \n",
            "..       ...  \n",
            "95  1335.840  \n",
            "96   259.200  \n",
            "97  1635.300  \n",
            "98  1851.960  \n",
            "99   324.000  \n",
            "\n",
            "[100 rows x 7 columns]\n"
          ]
        }
      ]
    },
    {
      "cell_type": "code",
      "source": [
        "import pandas as pd\n",
        "from scipy import stats\n",
        "\n",
        "df_original = pd.read_csv('/content/drive/MyDrive/CDLista1/vendasNovo.csv')\n",
        "df_melhorado = pd.read_csv('/content/drive/MyDrive/CDLista1/vendasMelhorado.csv')\n",
        "\n",
        "df_original['Período'] = 'Antes'\n",
        "df_melhorado['Período'] = 'Depois'\n",
        "\n",
        "df_combinado = pd.concat([df_original, df_melhorado])\n",
        "\n",
        "for cluster in df_combinado['Cluster'].unique():\n",
        "    # Filtrar os dados para o cluster e período desejados\n",
        "    dados_antes = df_combinado[(df_combinado['Período'] == 'Antes') & (df_combinado['Cluster'] == cluster)]['Quantidade']\n",
        "    dados_depois = df_combinado[(df_combinado['Período'] == 'Depois') & (df_combinado['Cluster'] == cluster)]['Quantidade']\n",
        "\n",
        "    # Realizar ANOVA\n",
        "    if len(dados_antes) > 0 and len(dados_depois) > 0:\n",
        "        resultado_anova = stats.f_oneway(dados_antes, dados_depois)\n",
        "\n",
        "        print(f'Cluster: {cluster}')\n",
        "        print(f'Valor F da ANOVA: {resultado_anova.statistic}')\n",
        "        print(f'Valor p da ANOVA: {resultado_anova.pvalue}')"
      ],
      "metadata": {
        "colab": {
          "base_uri": "https://localhost:8080/"
        },
        "id": "UfzmMjPcQf4I",
        "outputId": "fa67b821-2ac0-4bb2-afba-7519fe2036e2"
      },
      "execution_count": null,
      "outputs": [
        {
          "output_type": "stream",
          "name": "stdout",
          "text": [
            "Cluster: 1\n",
            "Valor F da ANOVA: 15.181397361784532\n",
            "Valor p da ANOVA: 0.0002420954482763431\n",
            "Cluster: 2\n",
            "Valor F da ANOVA: 1.1986034623352835\n",
            "Valor p da ANOVA: 0.27930047378728245\n",
            "Cluster: 0\n",
            "Valor F da ANOVA: 0.3242710847512089\n",
            "Valor p da ANOVA: 0.5724031868658683\n",
            "Cluster: 3\n",
            "Valor F da ANOVA: 6.225166111039562\n",
            "Valor p da ANOVA: 0.01624628728560365\n"
          ]
        }
      ]
    },
    {
      "cell_type": "markdown",
      "source": [
        "● **Gere um relatório resumindo os resultados da análise estatística e\n",
        "discuta se as estratégias de marketing sugeridas foram eficazes.**"
      ],
      "metadata": {
        "id": "U1wzayommFHP"
      }
    },
    {
      "cell_type": "markdown",
      "source": [
        "## Resultados:\n",
        "\n",
        "**Cluster 0:** Similar ao Cluster 2, não foram encontradas diferenças significativas na \"Quantidade\" de vendas (valor-p = 0,572). As estratégias não tiveram o efeito desejado para este cluster.\n",
        "\n",
        "**Cluster 1:** As estratégias de marketing foram altamente eficazes para este cluster (valor-p = 0,00024). Observou-se um aumento estatisticamente significativo na Quantidade de vendas após a implementação das estratégias.\n",
        "\n",
        "**Cluster 2:** Não foram observadas diferenças significativas na \"Quantidade\" de vendas após a aplicação das estratégias (valor-p = 0,279). As estratégias não foram eficazes para este cluster, ou outros fatores podem estar influenciando os resultados.\n",
        "\n",
        "**Cluster 3:** Os resultados para este cluster são levementen significativos (valor-p = 0,016). É possível que as estratégias tenham tido um pequeno efeito positivo, mas é necessário analisar outros fatores para confirmar.\n",
        "\n",
        "As estratégias de marketing foram mais adequadas ao cluster 1, porém também teve sua relevância no cluster 3."
      ],
      "metadata": {
        "id": "mZyUmZ9TPQ6u"
      }
    }
  ]
}